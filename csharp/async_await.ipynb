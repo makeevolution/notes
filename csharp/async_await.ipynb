{
 "cells": [
  {
   "cell_type": "markdown",
   "id": "21c2f4e6",
   "metadata": {
    "polyglot_notebook": {
     "kernelName": "csharp"
    }
   },
   "source": [
    "# What is the advantage of `async await` over `ContinueWith` in C#?"
   ]
  },
  {
   "cell_type": "markdown",
   "metadata": {
    "polyglot_notebook": {
     "kernelName": "csharp"
    }
   },
   "source": [
    "## Using `ContinueWith` makes callback hell; using `async await` removes callback hell and makes program readable"
   ]
  },
  {
   "cell_type": "code",
   "execution_count": 1,
   "id": "35e57dea",
   "metadata": {
    "polyglot_notebook": {
     "kernelName": "csharp"
    },
    "tags": [
     "async"
    ]
   },
   "outputs": [
    {
     "name": "stdout",
     "output_type": "stream",
     "text": [
      "Cooking Started\n",
      "Cooking turkey...\n",
      "Turkey is cooked!\n",
      "Cooking gravy...\n",
      "Gravy is cooked!\n",
      "Cooking vegetables...\n",
      "Vegetables are cooked!\n",
      "Dinner is ready!\n"
     ]
    }
   ],
   "source": [
    "using System;\n",
    "using System.Threading;\n",
    "using System.Threading.Tasks;\n",
    "\n",
    "public class Turkey\n",
    "{\n",
    "    public Task Cook()\n",
    "    {\n",
    "        return Task.Run(() =>\n",
    "        {\n",
    "            Task.Delay(2000).Wait(); // Simulate cooking time\n",
    "            Console.WriteLine(\"Cooking turkey...\");\n",
    "        });\n",
    "    }\n",
    "}\n",
    "\n",
    "public class Gravy\n",
    "{\n",
    "    public Task Cook()\n",
    "    {\n",
    "        return Task.Run(() =>\n",
    "        {\n",
    "            Task.Delay(1000).Wait(); // Simulate cooking time\n",
    "            Console.WriteLine(\"Cooking gravy...\");\n",
    "        });\n",
    "    }\n",
    "}\n",
    "\n",
    "public class Vegetables\n",
    "{\n",
    "    public Task Cook()\n",
    "    {\n",
    "        return Task.Run(() =>\n",
    "        {\n",
    "            Task.Delay(1500).Wait(); // Simulate cooking time\n",
    "            Console.WriteLine(\"Cooking vegetables...\");\n",
    "        });\n",
    "    }\n",
    "}\n",
    "\n",
    "public class Program\n",
    "{\n",
    "    public static void Main()\n",
    "    {\n",
    "        Console.WriteLine(\"Cooking Started\");\n",
    "\n",
    "        var turkey = new Turkey();\n",
    "\n",
    "        // Start cooking the turkey\n",
    "        turkey.Cook().ContinueWith(turkeyTask =>\n",
    "        {\n",
    "            if (turkeyTask.IsCompletedSuccessfully)\n",
    "            {\n",
    "                Console.WriteLine(\"Turkey is cooked!\");\n",
    "\n",
    "                var gravy = new Gravy();\n",
    "                // Start cooking the gravy\n",
    "                gravy.Cook().ContinueWith(gravyTask =>\n",
    "                {\n",
    "                    if (gravyTask.IsCompletedSuccessfully)\n",
    "                    {\n",
    "                        Console.WriteLine(\"Gravy is cooked!\");\n",
    "\n",
    "                        var vegetables = new Vegetables();\n",
    "                        // Start cooking the vegetables\n",
    "                        vegetables.Cook().ContinueWith(vegetablesTask =>\n",
    "                        {\n",
    "                            if (vegetablesTask.IsCompletedSuccessfully)\n",
    "                            {\n",
    "                                Console.WriteLine(\"Vegetables are cooked!\");\n",
    "                                Console.WriteLine(\"Dinner is ready!\");\n",
    "                            }\n",
    "                            else\n",
    "                            {\n",
    "                                Console.WriteLine(\"Failed to cook vegetables.\");\n",
    "                            }\n",
    "                        });\n",
    "                    }\n",
    "                    else\n",
    "                    {\n",
    "                        Console.WriteLine(\"Failed to cook gravy.\");\n",
    "                    }\n",
    "                });\n",
    "            }\n",
    "            else\n",
    "            {\n",
    "                Console.WriteLine(\"Failed to cook turkey.\");\n",
    "            }\n",
    "        });\n",
    "\n",
    "        // Block the main thread for a while so the program doesn't end\n",
    "        // and we can see the output of the cooking tasks in the Console\n",
    "        Thread.Sleep(10000);\n",
    "    }\n",
    "}\n",
    "Program.Main();\n"
   ]
  },
  {
   "cell_type": "markdown",
   "id": "3a72c057",
   "metadata": {},
   "source": [
    "Callback hell in the above example; with `async await` more readable"
   ]
  },
  {
   "cell_type": "code",
   "execution_count": 2,
   "metadata": {
    "polyglot_notebook": {
     "kernelName": "csharp"
    }
   },
   "outputs": [
    {
     "name": "stdout",
     "output_type": "stream",
     "text": [
      "Cooking Started\n",
      "Cooking turkey...\n",
      "Turkey is cooked!\n",
      "Cooking gravy...\n",
      "Gravy is cooked!\n",
      "Cooking vegetables...\n",
      "Vegetables are cooked!\n",
      "Dinner is ready!\n"
     ]
    }
   ],
   "source": [
    "public static async Task Main()\n",
    "{\n",
    "    Console.WriteLine(\"Cooking Started\");\n",
    "\n",
    "    var turkey = new Turkey();\n",
    "    await turkey.Cook();\n",
    "    Console.WriteLine(\"Turkey is cooked!\");\n",
    "\n",
    "    var gravy = new Gravy();\n",
    "    await gravy.Cook();\n",
    "    Console.WriteLine(\"Gravy is cooked!\");\n",
    "\n",
    "    var vegetables = new Vegetables();\n",
    "    await vegetables.Cook();\n",
    "    Console.WriteLine(\"Vegetables are cooked!\");\n",
    "\n",
    "    Console.WriteLine(\"Dinner is ready!\");\n",
    "}\n",
    "await Main();"
   ]
  },
  {
   "cell_type": "markdown",
   "id": "a7931abb",
   "metadata": {},
   "source": [
    "## `ContinueWith` always schedules continuation, even if task fails or cancelled.\n"
   ]
  },
  {
   "cell_type": "markdown",
   "metadata": {
    "polyglot_notebook": {
     "kernelName": "csharp"
    }
   },
   "source": [
    "\n",
    "Need to always check task state (i.e. `task.isCompletedSuccessfully` call in the above example).\n",
    "\n",
    "With `async await`, if task fails or is cancelled, will not schedule the continuation"
   ]
  },
  {
   "cell_type": "markdown",
   "id": "6e9c90ab",
   "metadata": {},
   "source": [
    "## Thread management; with `ContinueWith`, the continuation runs on a thread pool thread, not necessarily on the same thread as caller"
   ]
  },
  {
   "cell_type": "markdown",
   "metadata": {
    "polyglot_notebook": {
     "kernelName": "csharp"
    }
   },
   "source": [
    "To force it need to explicitly specify like example below"
   ]
  },
  {
   "cell_type": "code",
   "execution_count": 3,
   "metadata": {
    "polyglot_notebook": {
     "kernelName": "csharp"
    }
   },
   "outputs": [
    {
     "ename": "Error",
     "evalue": "(1,1): error CS0103: The name 'turkey' does not exist in the current context",
     "output_type": "error",
     "traceback": [
      "(1,1): error CS0103: The name 'turkey' does not exist in the current context"
     ]
    }
   ],
   "source": [
    "turkey.Cook()\n",
    "    .ContinueWith(_ =>\n",
    "    {\n",
    "        var gravy = new Gravy();\n",
    "        gravy.Cook();\n",
    "    }, TaskScheduler.FromCurrentSynchronizationContext());"
   ]
  },
  {
   "cell_type": "markdown",
   "id": "724a0b3d",
   "metadata": {},
   "source": [
    "But if we use `async await`, it will, if the app is a UI app, ensure the continuation is run on the calling thread"
   ]
  },
  {
   "cell_type": "markdown",
   "id": "788db548",
   "metadata": {},
   "source": [
    "# What is the issue with using `Wait()` or `Result()`?"
   ]
  },
  {
   "cell_type": "markdown",
   "id": "745ae53d",
   "metadata": {},
   "source": [
    "It blocks the calling thread"
   ]
  }
 ],
 "metadata": {
  "kernelspec": {
   "display_name": ".NET (C#)",
   "language": "C#",
   "name": ".net-csharp"
  },
  "polyglot_notebook": {
   "kernelInfo": {
    "defaultKernelName": "csharp",
    "items": [
     {
      "aliases": [],
      "languageName": "csharp",
      "name": "csharp"
     }
    ]
   }
  }
 },
 "nbformat": 4,
 "nbformat_minor": 5
}
