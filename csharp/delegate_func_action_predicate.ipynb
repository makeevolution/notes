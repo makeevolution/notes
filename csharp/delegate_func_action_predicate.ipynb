{
 "cells": [
  {
   "cell_type": "markdown",
   "id": "6f9f3fe2",
   "metadata": {},
   "source": [
    "# What is the difference between `delegate`, `func`, `action`, `predicate`?"
   ]
  },
  {
   "cell_type": "markdown",
   "id": "02f9636b",
   "metadata": {},
   "source": [
    "## Delegate\n",
    "A delegate is a type that represents references to methods with a specific signature. \n",
    "\n",
    "Delegates are used to pass methods as arguments to other methods, enabling flexible and reusable code. \n",
    "\n",
    "They are similar to function pointers in C++ but are type-safe and secure.\n",
    "\n",
    "Delegates are commonly used in event handling and callback mechanisms."
   ]
  },
  {
   "cell_type": "code",
   "execution_count": 22,
   "id": "6eb567f0",
   "metadata": {
    "polyglot_notebook": {
     "kernelName": "csharp"
    },
    "vscode": {
     "languageId": "polyglot-notebook"
    }
   },
   "outputs": [
    {
     "name": "stdout",
     "output_type": "stream",
     "text": [
      "Hello, Alice!\r\n"
     ]
    }
   ],
   "source": [
    "// Define a delegate\n",
    "public delegate void GreetDelegate(string name);\n",
    "\n",
    "// Define a method that matches the delegate signature\n",
    "public static void Greet(string name)\n",
    "{\n",
    "    Console.WriteLine($\"Hello, {name}!\");\n",
    "}\n",
    "\n",
    "// Use the delegate\n",
    "GreetDelegate greet = Greet;\n",
    "greet(\"Alice\");"
   ]
  },
  {
   "cell_type": "markdown",
   "id": "d3064a60",
   "metadata": {
    "vscode": {
     "languageId": "csharp"
    }
   },
   "source": [
    "## Func\n",
    "A `Func` is a built-in delegate type in C# that represents a method that returns a value. \n",
    "\n",
    "It can have zero or more input parameters, but it must have one return type. \n",
    "\n",
    "The last type parameter of a `Func` delegate specifies the return type, and the preceding type parameters specify the input parameters.\n",
    "\n",
    "`Func` is commonly used for encapsulating methods or lambda expressions that return a value."
   ]
  },
  {
   "cell_type": "code",
   "execution_count": 17,
   "id": "91326cca",
   "metadata": {
    "polyglot_notebook": {
     "kernelName": "csharp"
    },
    "vscode": {
     "languageId": "polyglot-notebook"
    }
   },
   "outputs": [
    {
     "name": "stdout",
     "output_type": "stream",
     "text": [
      "The sum is: 8\r\n"
     ]
    }
   ],
   "source": [
    "// Define a Func that takes two integers and returns their sum\n",
    "Func<int, int, int> add = (a, b) => a + b;\n",
    "\n",
    "// Use the Func\n",
    "int result = add(5, 3);\n",
    "Console.WriteLine($\"The sum is: {result}\");"
   ]
  },
  {
   "cell_type": "markdown",
   "id": "68a7ccbf",
   "metadata": {
    "vscode": {
     "languageId": "markdown"
    }
   },
   "source": [
    "## Action\n",
    "An `Action` is a built-in delegate type in C# that represents a method that does not return a value (void). \n",
    "\n",
    "It can have zero or more input parameters. \n",
    "\n",
    "`Action` is commonly used for encapsulating methods or lambda expressions that perform an operation but do not return a result."
   ]
  },
  {
   "cell_type": "code",
   "execution_count": 20,
   "id": "cc5d27b7",
   "metadata": {
    "polyglot_notebook": {
     "kernelName": "csharp"
    },
    "vscode": {
     "languageId": "polyglot-notebook"
    }
   },
   "outputs": [
    {
     "name": "stdout",
     "output_type": "stream",
     "text": [
      "Hello, Alice!\r\n"
     ]
    }
   ],
   "source": [
    "// Define an Action that takes a string and prints a greeting\n",
    "Action<string> greet = name => Console.WriteLine($\"Hello, {name}!\");\n",
    "\n",
    "// Use the Action\n",
    "greet(\"Alice\");"
   ]
  },
  {
   "cell_type": "markdown",
   "id": "2b20c849",
   "metadata": {},
   "source": [
    "## Predicate\n",
    "A `Predicate` is a built-in delegate type in C# that represents a method that takes a single input parameter and returns a boolean value (`true` or `false`). \n",
    "\n",
    "It is commonly used for defining conditions or criteria to filter or search for elements in a collection.\n",
    "\n",
    "`Predicate` is often used with methods like `Find`, `FindAll`, and `Exists` in collections.\n",
    "```"
   ]
  },
  {
   "cell_type": "code",
   "execution_count": 21,
   "id": "cdd3bf08",
   "metadata": {
    "polyglot_notebook": {
     "kernelName": "csharp"
    },
    "vscode": {
     "languageId": "polyglot-notebook"
    }
   },
   "outputs": [
    {
     "name": "stdout",
     "output_type": "stream",
     "text": [
      "Is 4 even? True\r\n"
     ]
    }
   ],
   "source": [
    "// Define a Predicate that checks if a number is even\n",
    "Predicate<int> isEven = number => number % 2 == 0;\n",
    "\n",
    "// Use the Predicate\n",
    "bool result = isEven(4);\n",
    "Console.WriteLine($\"Is 4 even? {result}\");"
   ]
  }
 ],
 "metadata": {
  "kernelspec": {
   "display_name": ".NET (C#)",
   "language": "C#",
   "name": ".net-csharp"
  },
  "language_info": {
   "codemirror_mode": {
    "name": "ipython",
    "version": 3
   },
   "file_extension": ".py",
   "mimetype": "text/x-python",
   "name": "python",
   "nbconvert_exporter": "python",
   "pygments_lexer": "ipython3",
   "version": "3.11.9"
  },
  "polyglot_notebook": {
   "kernelInfo": {
    "defaultKernelName": "csharp",
    "items": [
     {
      "aliases": [],
      "name": "csharp"
     }
    ]
   }
  }
 },
 "nbformat": 4,
 "nbformat_minor": 5
}
