{
 "cells": [
  {
   "cell_type": "markdown",
   "id": "21c2f4e6",
   "metadata": {
    "polyglot_notebook": {
     "kernelName": "csharp"
    }
   },
   "source": [
    "# How is C# code compiled? Relation with IL, JIT, .exe, .dll, CLR?"
   ]
  },
  {
   "cell_type": "markdown",
   "id": "fdaf1fac",
   "metadata": {},
   "source": [
    "```markdown\n",
    "Source code compiled by `csc.exe` to IL -> \n",
    "IL code stored inside an assembly, either a `.exe` or `.dll` -> \n",
    "During runtime, CLR compiles code to native machine code using JIT Compiler -> \n",
    "native code runs in OS\n",
    "\n",
    "More details:\n",
    "\n",
    "1. **Source Code to Intermediate Language (IL):**\n",
    "    - The C# source code is compiled by the C# compiler (`csc.exe`) into an Intermediate Language (IL), also known as Common Intermediate Language (CIL) or Microsoft Intermediate Language (MSIL).\n",
    "\n",
    "2. **Assembly Creation:**\n",
    "    - The IL code is stored in an assembly, which is either an `.exe` (executable) or `.dll` (library) file. This assembly also contains metadata about the code.\n",
    "\n",
    "3. **Just-In-Time (JIT) Compilation:**\n",
    "    - When the program is executed, the Common Language Runtime (CLR) takes the IL code and compiles it into native machine code specific to the platform using a Just-In-Time (JIT) compiler.\n",
    "\n",
    "4. **Execution:**\n",
    "    - The native machine code is then executed by the operating system.\n",
    "\n",
    "This two-step compilation process (from source code to IL, and then IL to native code) allows C# to be platform-independent at the IL level while still achieving high performance on the target platform."
   ]
  },
  {
   "cell_type": "markdown",
   "id": "d526ea76",
   "metadata": {},
   "source": [
    "# How does garbage collection work in CSharp"
   ]
  },
  {
   "cell_type": "markdown",
   "id": "b39456c3",
   "metadata": {},
   "source": [
    "```markdown\n",
    "Garbage collection in C# is an automatic memory management feature provided by the Common Language Runtime (CLR). It helps to reclaim memory occupied by objects that are no longer in use, preventing memory leaks and improving application performance.\n",
    "\n",
    "### Key Concepts of Garbage Collection:\n",
    "\n",
    "1. **Managed Heap:**\n",
    "    - When objects are created, they are stored in the managed heap. The garbage collector (GC) manages this heap.\n",
    "\n",
    "2. **Generations:**\n",
    "    - The managed heap is divided into three generations: Gen 0, Gen 1, and Gen 2.\n",
    "      - **Gen 0:** Short-lived objects (e.g., temporary variables).\n",
    "      - **Gen 1:** Objects that survived a Gen 0 collection.\n",
    "      - **Gen 2:** Long-lived objects (e.g., static data, global variables).\n",
    "\n",
    "3. **Mark and Sweep Algorithm:**\n",
    "    - The GC identifies objects that are no longer reachable (not referenced by the application).\n",
    "    - It marks these objects and reclaims their memory by sweeping them from the heap.\n",
    "\n",
    "4. **Compaction:**\n",
    "    - After reclaiming memory, the GC compacts the heap to reduce fragmentation and improve allocation efficiency.\n",
    "\n",
    "5. **Finalization:**\n",
    "    - If an object has a finalizer (`~ClassName()`), the GC calls it before reclaiming the object's memory.\n",
    "\n",
    "6. **Non-Deterministic:**\n",
    "    - Garbage collection is non-deterministic, meaning you cannot predict exactly when it will occur.\n",
    "\n",
    "### Benefits of Garbage Collection:\n",
    "- Simplifies memory management for developers.\n",
    "- Reduces the risk of memory leaks and dangling pointers.\n",
    "- Improves application stability and performance.\n",
    "\n",
    "### Best Practices:\n",
    "- Avoid unnecessary object creation.\n",
    "- Use `IDisposable` and `using` statements to release unmanaged resources promptly.\n",
    "- Minimize the use of finalizers as they can delay garbage collection.\n",
    "```"
   ]
  },
  {
   "cell_type": "markdown",
   "id": "325b8f29",
   "metadata": {},
   "source": [
    "```markdown\n",
    "# Example of Garbage Collection in C#\n",
    "\n",
    "Here is a simple example to demonstrate garbage collection in C#:\n",
    "\n",
    "```csharp\n",
    "using System;\n",
    "\n",
    "class Program\n",
    "{\n",
    "    static void Main()\n",
    "    {\n",
    "        // Creating objects\n",
    "        for (int i = 0; i < 1000; i++)\n",
    "        {\n",
    "            var obj = new MyClass();\n",
    "        }\n",
    "\n",
    "        // Forcing garbage collection\n",
    "        GC.Collect();\n",
    "        GC.WaitForPendingFinalizers();\n",
    "\n",
    "        Console.WriteLine(\"Garbage collection completed.\");\n",
    "    }\n",
    "}\n",
    "\n",
    "class MyClass\n",
    "{\n",
    "    ~MyClass()\n",
    "    {\n",
    "        // Finalizer\n",
    "        Console.WriteLine(\"Finalizer called for MyClass.\");\n",
    "    }\n",
    "}\n",
    "```\n",
    "\n",
    "### Explanation:\n",
    "1. **Object Creation:**\n",
    "   - A loop creates multiple instances of `MyClass`.\n",
    "\n",
    "2. **Forcing Garbage Collection:**\n",
    "   - `GC.Collect()` explicitly triggers garbage collection.\n",
    "   - `GC.WaitForPendingFinalizers()` ensures that all finalizers are executed before the program continues.\n",
    "\n",
    "3. **Finalizer:**\n",
    "   - The `~MyClass()` method is called by the garbage collector before reclaiming the memory of an object.\n",
    "\n",
    "### Output:\n",
    "The program will display messages from the finalizer, indicating that the garbage collector has reclaimed the memory of the objects.\n",
    "```"
   ]
  }
 ],
 "metadata": {
  "kernelspec": {
   "display_name": ".NET (C#)",
   "language": "C#",
   "name": ".net-csharp"
  },
  "polyglot_notebook": {
   "kernelInfo": {
    "defaultKernelName": "csharp",
    "items": [
     {
      "aliases": [],
      "languageName": "csharp",
      "name": "csharp"
     }
    ]
   }
  }
 },
 "nbformat": 4,
 "nbformat_minor": 5
}
